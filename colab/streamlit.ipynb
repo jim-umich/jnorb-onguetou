{
  "nbformat": 4,
  "nbformat_minor": 0,
  "metadata": {
    "colab": {
      "name": "streamlit.ipynb",
      "provenance": [],
      "collapsed_sections": [],
      "include_colab_link": true
    },
    "kernelspec": {
      "name": "python3",
      "display_name": "Python 3"
    },
    "language_info": {
      "name": "python"
    }
  },
  "cells": [
    {
      "cell_type": "markdown",
      "metadata": {
        "id": "view-in-github",
        "colab_type": "text"
      },
      "source": [
        "<a href=\"https://colab.research.google.com/github/jim-umich/jnorb-onguetou/blob/main/colab/streamlit.ipynb\" target=\"_parent\"><img src=\"https://colab.research.google.com/assets/colab-badge.svg\" alt=\"Open In Colab\"/></a>"
      ]
    },
    {
      "cell_type": "code",
      "execution_count": null,
      "metadata": {
        "colab": {
          "base_uri": "https://localhost:8080/"
        },
        "id": "sskSROCKVmqT",
        "outputId": "96d52165-16f2-4dce-f376-849e423951b8"
      },
      "outputs": [
        {
          "output_type": "stream",
          "name": "stdout",
          "text": [
            "Requirement already satisfied: streamlit in /usr/local/lib/python3.7/dist-packages (1.3.0)\n",
            "Requirement already satisfied: toml in /usr/local/lib/python3.7/dist-packages (from streamlit) (0.10.2)\n",
            "Requirement already satisfied: click<8.0,>=7.0 in /usr/local/lib/python3.7/dist-packages (from streamlit) (7.1.2)\n",
            "Requirement already satisfied: watchdog in /usr/local/lib/python3.7/dist-packages (from streamlit) (2.1.6)\n",
            "Requirement already satisfied: requests in /usr/local/lib/python3.7/dist-packages (from streamlit) (2.23.0)\n",
            "Requirement already satisfied: cachetools>=4.0 in /usr/local/lib/python3.7/dist-packages (from streamlit) (4.2.4)\n",
            "Requirement already satisfied: packaging in /usr/local/lib/python3.7/dist-packages (from streamlit) (21.3)\n",
            "Requirement already satisfied: pandas>=0.21.0 in /usr/local/lib/python3.7/dist-packages (from streamlit) (1.1.5)\n",
            "Requirement already satisfied: blinker in /usr/local/lib/python3.7/dist-packages (from streamlit) (1.4)\n",
            "Requirement already satisfied: numpy in /usr/local/lib/python3.7/dist-packages (from streamlit) (1.19.5)\n",
            "Requirement already satisfied: pyarrow in /usr/local/lib/python3.7/dist-packages (from streamlit) (3.0.0)\n",
            "Requirement already satisfied: pydeck>=0.1.dev5 in /usr/local/lib/python3.7/dist-packages (from streamlit) (0.7.1)\n",
            "Requirement already satisfied: tornado>=5.0 in /usr/local/lib/python3.7/dist-packages (from streamlit) (5.1.1)\n",
            "Requirement already satisfied: pympler>=0.9 in /usr/local/lib/python3.7/dist-packages (from streamlit) (1.0)\n",
            "Requirement already satisfied: altair>=3.2.0 in /usr/local/lib/python3.7/dist-packages (from streamlit) (4.1.0)\n",
            "Requirement already satisfied: tzlocal in /usr/local/lib/python3.7/dist-packages (from streamlit) (1.5.1)\n",
            "Requirement already satisfied: astor in /usr/local/lib/python3.7/dist-packages (from streamlit) (0.8.1)\n",
            "Requirement already satisfied: attrs in /usr/local/lib/python3.7/dist-packages (from streamlit) (21.2.0)\n",
            "Requirement already satisfied: protobuf!=3.11,>=3.6.0 in /usr/local/lib/python3.7/dist-packages (from streamlit) (3.17.3)\n",
            "Requirement already satisfied: base58 in /usr/local/lib/python3.7/dist-packages (from streamlit) (2.1.1)\n",
            "Requirement already satisfied: validators in /usr/local/lib/python3.7/dist-packages (from streamlit) (0.18.2)\n",
            "Requirement already satisfied: python-dateutil in /usr/local/lib/python3.7/dist-packages (from streamlit) (2.8.2)\n",
            "Requirement already satisfied: gitpython!=3.1.19 in /usr/local/lib/python3.7/dist-packages (from streamlit) (3.1.24)\n",
            "Requirement already satisfied: pillow>=6.2.0 in /usr/local/lib/python3.7/dist-packages (from streamlit) (7.1.2)\n",
            "Requirement already satisfied: entrypoints in /usr/local/lib/python3.7/dist-packages (from altair>=3.2.0->streamlit) (0.3)\n",
            "Requirement already satisfied: toolz in /usr/local/lib/python3.7/dist-packages (from altair>=3.2.0->streamlit) (0.11.2)\n",
            "Requirement already satisfied: jsonschema in /usr/local/lib/python3.7/dist-packages (from altair>=3.2.0->streamlit) (2.6.0)\n",
            "Requirement already satisfied: jinja2 in /usr/local/lib/python3.7/dist-packages (from altair>=3.2.0->streamlit) (2.11.3)\n",
            "Requirement already satisfied: typing-extensions>=3.7.4.3 in /usr/local/lib/python3.7/dist-packages (from gitpython!=3.1.19->streamlit) (3.10.0.2)\n",
            "Requirement already satisfied: gitdb<5,>=4.0.1 in /usr/local/lib/python3.7/dist-packages (from gitpython!=3.1.19->streamlit) (4.0.9)\n",
            "Requirement already satisfied: smmap<6,>=3.0.1 in /usr/local/lib/python3.7/dist-packages (from gitdb<5,>=4.0.1->gitpython!=3.1.19->streamlit) (5.0.0)\n",
            "Requirement already satisfied: pytz>=2017.2 in /usr/local/lib/python3.7/dist-packages (from pandas>=0.21.0->streamlit) (2018.9)\n",
            "Requirement already satisfied: six>=1.9 in /usr/local/lib/python3.7/dist-packages (from protobuf!=3.11,>=3.6.0->streamlit) (1.15.0)\n",
            "Requirement already satisfied: ipykernel>=5.1.2 in /usr/local/lib/python3.7/dist-packages (from pydeck>=0.1.dev5->streamlit) (6.6.0)\n",
            "Requirement already satisfied: traitlets>=4.3.2 in /usr/local/lib/python3.7/dist-packages (from pydeck>=0.1.dev5->streamlit) (5.1.1)\n",
            "Requirement already satisfied: ipywidgets>=7.0.0 in /usr/local/lib/python3.7/dist-packages (from pydeck>=0.1.dev5->streamlit) (7.6.5)\n",
            "Requirement already satisfied: debugpy<2.0,>=1.0.0 in /usr/local/lib/python3.7/dist-packages (from ipykernel>=5.1.2->pydeck>=0.1.dev5->streamlit) (1.0.0)\n",
            "Requirement already satisfied: jupyter-client<8.0 in /usr/local/lib/python3.7/dist-packages (from ipykernel>=5.1.2->pydeck>=0.1.dev5->streamlit) (5.3.5)\n",
            "Requirement already satisfied: ipython>=7.23.1 in /usr/local/lib/python3.7/dist-packages (from ipykernel>=5.1.2->pydeck>=0.1.dev5->streamlit) (7.30.1)\n",
            "Requirement already satisfied: argcomplete>=1.12.3 in /usr/local/lib/python3.7/dist-packages (from ipykernel>=5.1.2->pydeck>=0.1.dev5->streamlit) (1.12.3)\n",
            "Requirement already satisfied: matplotlib-inline<0.2.0,>=0.1.0 in /usr/local/lib/python3.7/dist-packages (from ipykernel>=5.1.2->pydeck>=0.1.dev5->streamlit) (0.1.3)\n",
            "Requirement already satisfied: importlib-metadata<5 in /usr/local/lib/python3.7/dist-packages (from ipykernel>=5.1.2->pydeck>=0.1.dev5->streamlit) (4.8.2)\n",
            "Requirement already satisfied: zipp>=0.5 in /usr/local/lib/python3.7/dist-packages (from importlib-metadata<5->ipykernel>=5.1.2->pydeck>=0.1.dev5->streamlit) (3.6.0)\n",
            "Requirement already satisfied: setuptools>=18.5 in /usr/local/lib/python3.7/dist-packages (from ipython>=7.23.1->ipykernel>=5.1.2->pydeck>=0.1.dev5->streamlit) (57.4.0)\n",
            "Requirement already satisfied: decorator in /usr/local/lib/python3.7/dist-packages (from ipython>=7.23.1->ipykernel>=5.1.2->pydeck>=0.1.dev5->streamlit) (4.4.2)\n",
            "Requirement already satisfied: backcall in /usr/local/lib/python3.7/dist-packages (from ipython>=7.23.1->ipykernel>=5.1.2->pydeck>=0.1.dev5->streamlit) (0.2.0)\n",
            "Requirement already satisfied: prompt-toolkit!=3.0.0,!=3.0.1,<3.1.0,>=2.0.0 in /usr/local/lib/python3.7/dist-packages (from ipython>=7.23.1->ipykernel>=5.1.2->pydeck>=0.1.dev5->streamlit) (3.0.24)\n",
            "Requirement already satisfied: jedi>=0.16 in /usr/local/lib/python3.7/dist-packages (from ipython>=7.23.1->ipykernel>=5.1.2->pydeck>=0.1.dev5->streamlit) (0.18.1)\n",
            "Requirement already satisfied: pexpect>4.3 in /usr/local/lib/python3.7/dist-packages (from ipython>=7.23.1->ipykernel>=5.1.2->pydeck>=0.1.dev5->streamlit) (4.8.0)\n",
            "Requirement already satisfied: pickleshare in /usr/local/lib/python3.7/dist-packages (from ipython>=7.23.1->ipykernel>=5.1.2->pydeck>=0.1.dev5->streamlit) (0.7.5)\n",
            "Requirement already satisfied: pygments in /usr/local/lib/python3.7/dist-packages (from ipython>=7.23.1->ipykernel>=5.1.2->pydeck>=0.1.dev5->streamlit) (2.6.1)\n",
            "Requirement already satisfied: widgetsnbextension~=3.5.0 in /usr/local/lib/python3.7/dist-packages (from ipywidgets>=7.0.0->pydeck>=0.1.dev5->streamlit) (3.5.2)\n",
            "Requirement already satisfied: ipython-genutils~=0.2.0 in /usr/local/lib/python3.7/dist-packages (from ipywidgets>=7.0.0->pydeck>=0.1.dev5->streamlit) (0.2.0)\n",
            "Requirement already satisfied: jupyterlab-widgets>=1.0.0 in /usr/local/lib/python3.7/dist-packages (from ipywidgets>=7.0.0->pydeck>=0.1.dev5->streamlit) (1.0.2)\n",
            "Requirement already satisfied: nbformat>=4.2.0 in /usr/local/lib/python3.7/dist-packages (from ipywidgets>=7.0.0->pydeck>=0.1.dev5->streamlit) (5.1.3)\n",
            "Requirement already satisfied: parso<0.9.0,>=0.8.0 in /usr/local/lib/python3.7/dist-packages (from jedi>=0.16->ipython>=7.23.1->ipykernel>=5.1.2->pydeck>=0.1.dev5->streamlit) (0.8.3)\n",
            "Requirement already satisfied: MarkupSafe>=0.23 in /usr/local/lib/python3.7/dist-packages (from jinja2->altair>=3.2.0->streamlit) (2.0.1)\n",
            "Requirement already satisfied: jupyter-core>=4.6.0 in /usr/local/lib/python3.7/dist-packages (from jupyter-client<8.0->ipykernel>=5.1.2->pydeck>=0.1.dev5->streamlit) (4.9.1)\n",
            "Requirement already satisfied: pyzmq>=13 in /usr/local/lib/python3.7/dist-packages (from jupyter-client<8.0->ipykernel>=5.1.2->pydeck>=0.1.dev5->streamlit) (22.3.0)\n",
            "Requirement already satisfied: ptyprocess>=0.5 in /usr/local/lib/python3.7/dist-packages (from pexpect>4.3->ipython>=7.23.1->ipykernel>=5.1.2->pydeck>=0.1.dev5->streamlit) (0.7.0)\n",
            "Requirement already satisfied: wcwidth in /usr/local/lib/python3.7/dist-packages (from prompt-toolkit!=3.0.0,!=3.0.1,<3.1.0,>=2.0.0->ipython>=7.23.1->ipykernel>=5.1.2->pydeck>=0.1.dev5->streamlit) (0.2.5)\n",
            "Requirement already satisfied: notebook>=4.4.1 in /usr/local/lib/python3.7/dist-packages (from widgetsnbextension~=3.5.0->ipywidgets>=7.0.0->pydeck>=0.1.dev5->streamlit) (5.3.1)\n",
            "Requirement already satisfied: Send2Trash in /usr/local/lib/python3.7/dist-packages (from notebook>=4.4.1->widgetsnbextension~=3.5.0->ipywidgets>=7.0.0->pydeck>=0.1.dev5->streamlit) (1.8.0)\n",
            "Requirement already satisfied: nbconvert in /usr/local/lib/python3.7/dist-packages (from notebook>=4.4.1->widgetsnbextension~=3.5.0->ipywidgets>=7.0.0->pydeck>=0.1.dev5->streamlit) (5.6.1)\n",
            "Requirement already satisfied: terminado>=0.8.1 in /usr/local/lib/python3.7/dist-packages (from notebook>=4.4.1->widgetsnbextension~=3.5.0->ipywidgets>=7.0.0->pydeck>=0.1.dev5->streamlit) (0.12.1)\n",
            "Requirement already satisfied: defusedxml in /usr/local/lib/python3.7/dist-packages (from nbconvert->notebook>=4.4.1->widgetsnbextension~=3.5.0->ipywidgets>=7.0.0->pydeck>=0.1.dev5->streamlit) (0.7.1)\n",
            "Requirement already satisfied: bleach in /usr/local/lib/python3.7/dist-packages (from nbconvert->notebook>=4.4.1->widgetsnbextension~=3.5.0->ipywidgets>=7.0.0->pydeck>=0.1.dev5->streamlit) (4.1.0)\n",
            "Requirement already satisfied: mistune<2,>=0.8.1 in /usr/local/lib/python3.7/dist-packages (from nbconvert->notebook>=4.4.1->widgetsnbextension~=3.5.0->ipywidgets>=7.0.0->pydeck>=0.1.dev5->streamlit) (0.8.4)\n",
            "Requirement already satisfied: pandocfilters>=1.4.1 in /usr/local/lib/python3.7/dist-packages (from nbconvert->notebook>=4.4.1->widgetsnbextension~=3.5.0->ipywidgets>=7.0.0->pydeck>=0.1.dev5->streamlit) (1.5.0)\n",
            "Requirement already satisfied: testpath in /usr/local/lib/python3.7/dist-packages (from nbconvert->notebook>=4.4.1->widgetsnbextension~=3.5.0->ipywidgets>=7.0.0->pydeck>=0.1.dev5->streamlit) (0.5.0)\n",
            "Requirement already satisfied: webencodings in /usr/local/lib/python3.7/dist-packages (from bleach->nbconvert->notebook>=4.4.1->widgetsnbextension~=3.5.0->ipywidgets>=7.0.0->pydeck>=0.1.dev5->streamlit) (0.5.1)\n",
            "Requirement already satisfied: pyparsing!=3.0.5,>=2.0.2 in /usr/local/lib/python3.7/dist-packages (from packaging->streamlit) (3.0.6)\n",
            "Requirement already satisfied: urllib3!=1.25.0,!=1.25.1,<1.26,>=1.21.1 in /usr/local/lib/python3.7/dist-packages (from requests->streamlit) (1.24.3)\n",
            "Requirement already satisfied: idna<3,>=2.5 in /usr/local/lib/python3.7/dist-packages (from requests->streamlit) (2.10)\n",
            "Requirement already satisfied: chardet<4,>=3.0.2 in /usr/local/lib/python3.7/dist-packages (from requests->streamlit) (3.0.4)\n",
            "Requirement already satisfied: certifi>=2017.4.17 in /usr/local/lib/python3.7/dist-packages (from requests->streamlit) (2021.10.8)\n"
          ]
        }
      ],
      "source": [
        "!pip install streamlit"
      ]
    },
    {
      "cell_type": "code",
      "source": [
        "!pip install pyngrok"
      ],
      "metadata": {
        "colab": {
          "base_uri": "https://localhost:8080/"
        },
        "id": "EOp7gZAVfPPV",
        "outputId": "c0db49d9-079e-4c0d-de2a-4a3ce52a0b01"
      },
      "execution_count": null,
      "outputs": [
        {
          "output_type": "stream",
          "name": "stdout",
          "text": [
            "Requirement already satisfied: pyngrok in /usr/local/lib/python3.7/dist-packages (5.1.0)\n",
            "Requirement already satisfied: PyYAML in /usr/local/lib/python3.7/dist-packages (from pyngrok) (3.13)\n"
          ]
        }
      ]
    },
    {
      "cell_type": "code",
      "source": [
        "! pip install streamlit-folium"
      ],
      "metadata": {
        "colab": {
          "base_uri": "https://localhost:8080/"
        },
        "id": "WiFBW3r6J1PF",
        "outputId": "46673382-7238-47d3-f5c6-246a54c6af60"
      },
      "execution_count": null,
      "outputs": [
        {
          "output_type": "stream",
          "name": "stdout",
          "text": [
            "Requirement already satisfied: streamlit-folium in /usr/local/lib/python3.7/dist-packages (0.4.0)\n",
            "Requirement already satisfied: streamlit>=0.79 in /usr/local/lib/python3.7/dist-packages (from streamlit-folium) (1.3.0)\n",
            "Requirement already satisfied: folium>=0.11 in /usr/local/lib/python3.7/dist-packages (from streamlit-folium) (0.12.1.post1)\n",
            "Requirement already satisfied: jinja2>=2.9 in /usr/local/lib/python3.7/dist-packages (from folium>=0.11->streamlit-folium) (2.11.3)\n",
            "Requirement already satisfied: numpy in /usr/local/lib/python3.7/dist-packages (from folium>=0.11->streamlit-folium) (1.19.5)\n",
            "Requirement already satisfied: branca>=0.3.0 in /usr/local/lib/python3.7/dist-packages (from folium>=0.11->streamlit-folium) (0.4.2)\n",
            "Requirement already satisfied: requests in /usr/local/lib/python3.7/dist-packages (from folium>=0.11->streamlit-folium) (2.23.0)\n",
            "Requirement already satisfied: MarkupSafe>=0.23 in /usr/local/lib/python3.7/dist-packages (from jinja2>=2.9->folium>=0.11->streamlit-folium) (2.0.1)\n",
            "Requirement already satisfied: astor in /usr/local/lib/python3.7/dist-packages (from streamlit>=0.79->streamlit-folium) (0.8.1)\n",
            "Requirement already satisfied: cachetools>=4.0 in /usr/local/lib/python3.7/dist-packages (from streamlit>=0.79->streamlit-folium) (4.2.4)\n",
            "Requirement already satisfied: python-dateutil in /usr/local/lib/python3.7/dist-packages (from streamlit>=0.79->streamlit-folium) (2.8.2)\n",
            "Requirement already satisfied: packaging in /usr/local/lib/python3.7/dist-packages (from streamlit>=0.79->streamlit-folium) (21.3)\n",
            "Requirement already satisfied: altair>=3.2.0 in /usr/local/lib/python3.7/dist-packages (from streamlit>=0.79->streamlit-folium) (4.1.0)\n",
            "Requirement already satisfied: pandas>=0.21.0 in /usr/local/lib/python3.7/dist-packages (from streamlit>=0.79->streamlit-folium) (1.1.5)\n",
            "Requirement already satisfied: click<8.0,>=7.0 in /usr/local/lib/python3.7/dist-packages (from streamlit>=0.79->streamlit-folium) (7.1.2)\n",
            "Requirement already satisfied: pillow>=6.2.0 in /usr/local/lib/python3.7/dist-packages (from streamlit>=0.79->streamlit-folium) (7.1.2)\n",
            "Requirement already satisfied: tzlocal in /usr/local/lib/python3.7/dist-packages (from streamlit>=0.79->streamlit-folium) (1.5.1)\n",
            "Requirement already satisfied: tornado>=5.0 in /usr/local/lib/python3.7/dist-packages (from streamlit>=0.79->streamlit-folium) (5.1.1)\n",
            "Requirement already satisfied: protobuf!=3.11,>=3.6.0 in /usr/local/lib/python3.7/dist-packages (from streamlit>=0.79->streamlit-folium) (3.17.3)\n",
            "Requirement already satisfied: pydeck>=0.1.dev5 in /usr/local/lib/python3.7/dist-packages (from streamlit>=0.79->streamlit-folium) (0.7.1)\n",
            "Requirement already satisfied: base58 in /usr/local/lib/python3.7/dist-packages (from streamlit>=0.79->streamlit-folium) (2.1.1)\n",
            "Requirement already satisfied: pympler>=0.9 in /usr/local/lib/python3.7/dist-packages (from streamlit>=0.79->streamlit-folium) (1.0)\n",
            "Requirement already satisfied: gitpython!=3.1.19 in /usr/local/lib/python3.7/dist-packages (from streamlit>=0.79->streamlit-folium) (3.1.24)\n",
            "Requirement already satisfied: pyarrow in /usr/local/lib/python3.7/dist-packages (from streamlit>=0.79->streamlit-folium) (3.0.0)\n",
            "Requirement already satisfied: toml in /usr/local/lib/python3.7/dist-packages (from streamlit>=0.79->streamlit-folium) (0.10.2)\n",
            "Requirement already satisfied: blinker in /usr/local/lib/python3.7/dist-packages (from streamlit>=0.79->streamlit-folium) (1.4)\n",
            "Requirement already satisfied: attrs in /usr/local/lib/python3.7/dist-packages (from streamlit>=0.79->streamlit-folium) (21.2.0)\n",
            "Requirement already satisfied: validators in /usr/local/lib/python3.7/dist-packages (from streamlit>=0.79->streamlit-folium) (0.18.2)\n",
            "Requirement already satisfied: watchdog in /usr/local/lib/python3.7/dist-packages (from streamlit>=0.79->streamlit-folium) (2.1.6)\n",
            "Requirement already satisfied: jsonschema in /usr/local/lib/python3.7/dist-packages (from altair>=3.2.0->streamlit>=0.79->streamlit-folium) (2.6.0)\n",
            "Requirement already satisfied: toolz in /usr/local/lib/python3.7/dist-packages (from altair>=3.2.0->streamlit>=0.79->streamlit-folium) (0.11.2)\n",
            "Requirement already satisfied: entrypoints in /usr/local/lib/python3.7/dist-packages (from altair>=3.2.0->streamlit>=0.79->streamlit-folium) (0.3)\n",
            "Requirement already satisfied: gitdb<5,>=4.0.1 in /usr/local/lib/python3.7/dist-packages (from gitpython!=3.1.19->streamlit>=0.79->streamlit-folium) (4.0.9)\n",
            "Requirement already satisfied: typing-extensions>=3.7.4.3 in /usr/local/lib/python3.7/dist-packages (from gitpython!=3.1.19->streamlit>=0.79->streamlit-folium) (3.10.0.2)\n",
            "Requirement already satisfied: smmap<6,>=3.0.1 in /usr/local/lib/python3.7/dist-packages (from gitdb<5,>=4.0.1->gitpython!=3.1.19->streamlit>=0.79->streamlit-folium) (5.0.0)\n",
            "Requirement already satisfied: pytz>=2017.2 in /usr/local/lib/python3.7/dist-packages (from pandas>=0.21.0->streamlit>=0.79->streamlit-folium) (2018.9)\n",
            "Requirement already satisfied: six>=1.9 in /usr/local/lib/python3.7/dist-packages (from protobuf!=3.11,>=3.6.0->streamlit>=0.79->streamlit-folium) (1.15.0)\n",
            "Requirement already satisfied: ipykernel>=5.1.2 in /usr/local/lib/python3.7/dist-packages (from pydeck>=0.1.dev5->streamlit>=0.79->streamlit-folium) (6.6.0)\n",
            "Requirement already satisfied: ipywidgets>=7.0.0 in /usr/local/lib/python3.7/dist-packages (from pydeck>=0.1.dev5->streamlit>=0.79->streamlit-folium) (7.6.5)\n",
            "Requirement already satisfied: traitlets>=4.3.2 in /usr/local/lib/python3.7/dist-packages (from pydeck>=0.1.dev5->streamlit>=0.79->streamlit-folium) (5.1.1)\n",
            "Requirement already satisfied: matplotlib-inline<0.2.0,>=0.1.0 in /usr/local/lib/python3.7/dist-packages (from ipykernel>=5.1.2->pydeck>=0.1.dev5->streamlit>=0.79->streamlit-folium) (0.1.3)\n",
            "Requirement already satisfied: debugpy<2.0,>=1.0.0 in /usr/local/lib/python3.7/dist-packages (from ipykernel>=5.1.2->pydeck>=0.1.dev5->streamlit>=0.79->streamlit-folium) (1.0.0)\n",
            "Requirement already satisfied: argcomplete>=1.12.3 in /usr/local/lib/python3.7/dist-packages (from ipykernel>=5.1.2->pydeck>=0.1.dev5->streamlit>=0.79->streamlit-folium) (1.12.3)\n",
            "Requirement already satisfied: ipython>=7.23.1 in /usr/local/lib/python3.7/dist-packages (from ipykernel>=5.1.2->pydeck>=0.1.dev5->streamlit>=0.79->streamlit-folium) (7.30.1)\n",
            "Requirement already satisfied: importlib-metadata<5 in /usr/local/lib/python3.7/dist-packages (from ipykernel>=5.1.2->pydeck>=0.1.dev5->streamlit>=0.79->streamlit-folium) (4.8.2)\n",
            "Requirement already satisfied: jupyter-client<8.0 in /usr/local/lib/python3.7/dist-packages (from ipykernel>=5.1.2->pydeck>=0.1.dev5->streamlit>=0.79->streamlit-folium) (5.3.5)\n",
            "Requirement already satisfied: zipp>=0.5 in /usr/local/lib/python3.7/dist-packages (from importlib-metadata<5->ipykernel>=5.1.2->pydeck>=0.1.dev5->streamlit>=0.79->streamlit-folium) (3.6.0)\n",
            "Requirement already satisfied: backcall in /usr/local/lib/python3.7/dist-packages (from ipython>=7.23.1->ipykernel>=5.1.2->pydeck>=0.1.dev5->streamlit>=0.79->streamlit-folium) (0.2.0)\n",
            "Requirement already satisfied: jedi>=0.16 in /usr/local/lib/python3.7/dist-packages (from ipython>=7.23.1->ipykernel>=5.1.2->pydeck>=0.1.dev5->streamlit>=0.79->streamlit-folium) (0.18.1)\n",
            "Requirement already satisfied: pickleshare in /usr/local/lib/python3.7/dist-packages (from ipython>=7.23.1->ipykernel>=5.1.2->pydeck>=0.1.dev5->streamlit>=0.79->streamlit-folium) (0.7.5)\n",
            "Requirement already satisfied: setuptools>=18.5 in /usr/local/lib/python3.7/dist-packages (from ipython>=7.23.1->ipykernel>=5.1.2->pydeck>=0.1.dev5->streamlit>=0.79->streamlit-folium) (57.4.0)\n",
            "Requirement already satisfied: pexpect>4.3 in /usr/local/lib/python3.7/dist-packages (from ipython>=7.23.1->ipykernel>=5.1.2->pydeck>=0.1.dev5->streamlit>=0.79->streamlit-folium) (4.8.0)\n",
            "Requirement already satisfied: prompt-toolkit!=3.0.0,!=3.0.1,<3.1.0,>=2.0.0 in /usr/local/lib/python3.7/dist-packages (from ipython>=7.23.1->ipykernel>=5.1.2->pydeck>=0.1.dev5->streamlit>=0.79->streamlit-folium) (3.0.24)\n",
            "Requirement already satisfied: pygments in /usr/local/lib/python3.7/dist-packages (from ipython>=7.23.1->ipykernel>=5.1.2->pydeck>=0.1.dev5->streamlit>=0.79->streamlit-folium) (2.6.1)\n",
            "Requirement already satisfied: decorator in /usr/local/lib/python3.7/dist-packages (from ipython>=7.23.1->ipykernel>=5.1.2->pydeck>=0.1.dev5->streamlit>=0.79->streamlit-folium) (4.4.2)\n",
            "Requirement already satisfied: nbformat>=4.2.0 in /usr/local/lib/python3.7/dist-packages (from ipywidgets>=7.0.0->pydeck>=0.1.dev5->streamlit>=0.79->streamlit-folium) (5.1.3)\n",
            "Requirement already satisfied: ipython-genutils~=0.2.0 in /usr/local/lib/python3.7/dist-packages (from ipywidgets>=7.0.0->pydeck>=0.1.dev5->streamlit>=0.79->streamlit-folium) (0.2.0)\n",
            "Requirement already satisfied: widgetsnbextension~=3.5.0 in /usr/local/lib/python3.7/dist-packages (from ipywidgets>=7.0.0->pydeck>=0.1.dev5->streamlit>=0.79->streamlit-folium) (3.5.2)\n",
            "Requirement already satisfied: jupyterlab-widgets>=1.0.0 in /usr/local/lib/python3.7/dist-packages (from ipywidgets>=7.0.0->pydeck>=0.1.dev5->streamlit>=0.79->streamlit-folium) (1.0.2)\n",
            "Requirement already satisfied: parso<0.9.0,>=0.8.0 in /usr/local/lib/python3.7/dist-packages (from jedi>=0.16->ipython>=7.23.1->ipykernel>=5.1.2->pydeck>=0.1.dev5->streamlit>=0.79->streamlit-folium) (0.8.3)\n",
            "Requirement already satisfied: pyzmq>=13 in /usr/local/lib/python3.7/dist-packages (from jupyter-client<8.0->ipykernel>=5.1.2->pydeck>=0.1.dev5->streamlit>=0.79->streamlit-folium) (22.3.0)\n",
            "Requirement already satisfied: jupyter-core>=4.6.0 in /usr/local/lib/python3.7/dist-packages (from jupyter-client<8.0->ipykernel>=5.1.2->pydeck>=0.1.dev5->streamlit>=0.79->streamlit-folium) (4.9.1)\n",
            "Requirement already satisfied: ptyprocess>=0.5 in /usr/local/lib/python3.7/dist-packages (from pexpect>4.3->ipython>=7.23.1->ipykernel>=5.1.2->pydeck>=0.1.dev5->streamlit>=0.79->streamlit-folium) (0.7.0)\n",
            "Requirement already satisfied: wcwidth in /usr/local/lib/python3.7/dist-packages (from prompt-toolkit!=3.0.0,!=3.0.1,<3.1.0,>=2.0.0->ipython>=7.23.1->ipykernel>=5.1.2->pydeck>=0.1.dev5->streamlit>=0.79->streamlit-folium) (0.2.5)\n",
            "Requirement already satisfied: notebook>=4.4.1 in /usr/local/lib/python3.7/dist-packages (from widgetsnbextension~=3.5.0->ipywidgets>=7.0.0->pydeck>=0.1.dev5->streamlit>=0.79->streamlit-folium) (5.3.1)\n",
            "Requirement already satisfied: nbconvert in /usr/local/lib/python3.7/dist-packages (from notebook>=4.4.1->widgetsnbextension~=3.5.0->ipywidgets>=7.0.0->pydeck>=0.1.dev5->streamlit>=0.79->streamlit-folium) (5.6.1)\n",
            "Requirement already satisfied: terminado>=0.8.1 in /usr/local/lib/python3.7/dist-packages (from notebook>=4.4.1->widgetsnbextension~=3.5.0->ipywidgets>=7.0.0->pydeck>=0.1.dev5->streamlit>=0.79->streamlit-folium) (0.12.1)\n",
            "Requirement already satisfied: Send2Trash in /usr/local/lib/python3.7/dist-packages (from notebook>=4.4.1->widgetsnbextension~=3.5.0->ipywidgets>=7.0.0->pydeck>=0.1.dev5->streamlit>=0.79->streamlit-folium) (1.8.0)\n",
            "Requirement already satisfied: mistune<2,>=0.8.1 in /usr/local/lib/python3.7/dist-packages (from nbconvert->notebook>=4.4.1->widgetsnbextension~=3.5.0->ipywidgets>=7.0.0->pydeck>=0.1.dev5->streamlit>=0.79->streamlit-folium) (0.8.4)\n",
            "Requirement already satisfied: pandocfilters>=1.4.1 in /usr/local/lib/python3.7/dist-packages (from nbconvert->notebook>=4.4.1->widgetsnbextension~=3.5.0->ipywidgets>=7.0.0->pydeck>=0.1.dev5->streamlit>=0.79->streamlit-folium) (1.5.0)\n",
            "Requirement already satisfied: testpath in /usr/local/lib/python3.7/dist-packages (from nbconvert->notebook>=4.4.1->widgetsnbextension~=3.5.0->ipywidgets>=7.0.0->pydeck>=0.1.dev5->streamlit>=0.79->streamlit-folium) (0.5.0)\n",
            "Requirement already satisfied: defusedxml in /usr/local/lib/python3.7/dist-packages (from nbconvert->notebook>=4.4.1->widgetsnbextension~=3.5.0->ipywidgets>=7.0.0->pydeck>=0.1.dev5->streamlit>=0.79->streamlit-folium) (0.7.1)\n",
            "Requirement already satisfied: bleach in /usr/local/lib/python3.7/dist-packages (from nbconvert->notebook>=4.4.1->widgetsnbextension~=3.5.0->ipywidgets>=7.0.0->pydeck>=0.1.dev5->streamlit>=0.79->streamlit-folium) (4.1.0)\n",
            "Requirement already satisfied: webencodings in /usr/local/lib/python3.7/dist-packages (from bleach->nbconvert->notebook>=4.4.1->widgetsnbextension~=3.5.0->ipywidgets>=7.0.0->pydeck>=0.1.dev5->streamlit>=0.79->streamlit-folium) (0.5.1)\n",
            "Requirement already satisfied: pyparsing!=3.0.5,>=2.0.2 in /usr/local/lib/python3.7/dist-packages (from packaging->streamlit>=0.79->streamlit-folium) (3.0.6)\n",
            "Requirement already satisfied: chardet<4,>=3.0.2 in /usr/local/lib/python3.7/dist-packages (from requests->folium>=0.11->streamlit-folium) (3.0.4)\n",
            "Requirement already satisfied: certifi>=2017.4.17 in /usr/local/lib/python3.7/dist-packages (from requests->folium>=0.11->streamlit-folium) (2021.10.8)\n",
            "Requirement already satisfied: idna<3,>=2.5 in /usr/local/lib/python3.7/dist-packages (from requests->folium>=0.11->streamlit-folium) (2.10)\n",
            "Requirement already satisfied: urllib3!=1.25.0,!=1.25.1,<1.26,>=1.21.1 in /usr/local/lib/python3.7/dist-packages (from requests->folium>=0.11->streamlit-folium) (1.24.3)\n"
          ]
        }
      ]
    },
    {
      "cell_type": "code",
      "source": [
        "# from google.colab import drive\n",
        "# import os\n",
        "# drive.mount('/content/drive')"
      ],
      "metadata": {
        "id": "S9P19qCJBoph"
      },
      "execution_count": null,
      "outputs": []
    },
    {
      "cell_type": "code",
      "source": [
        "# os.chdir('drive/Shareddrives/CapstoneProject/AoT_Chicago Reduced Data_V3')"
      ],
      "metadata": {
        "id": "U_IHeVwJBt65"
      },
      "execution_count": null,
      "outputs": []
    },
    {
      "cell_type": "code",
      "source": [
        "%%writefile app.py\n",
        "import streamlit as st\n",
        "import pandas as pd\n",
        "import numpy as np\n",
        "\n",
        "import gzip\n",
        "from google.colab import drive\n",
        "import os\n",
        "\n",
        "from PIL import Image\n",
        "\n",
        "import matplotlib.pyplot as plt\n",
        "import altair as alt\n",
        "# from streamlit_folium import folium_static\n",
        "import folium\n",
        "import seaborn as sb\n",
        "\n",
        "from statsmodels.tsa.api import VAR\n",
        "from statsmodels.tsa.vector_ar.var_model import VARResults, VARResultsWrapper\n",
        "# statsmodels.tsa.vector_ar.var_model.VARProcess.forecast_interval\n",
        "\n",
        "# Suppress warnings\n",
        "import warnings\n",
        "from statsmodels.tools.sm_exceptions import ValueWarning\n",
        "warnings.simplefilter(\"ignore\", ValueWarning)\n",
        "\n",
        "# st.title(\"MADS 697/698 - CAPSTONE\")\n",
        "# st.header(\"Diane O and James N\")\n",
        "\n",
        "\n",
        "def main():\n",
        "  # \"# MADS CAPSTONE, SIADS 697-698\"\n",
        "  st.header(\"MADS CAPSTONE, SIADS 697-698\")\n",
        "  # st.markdown('\\n\\n')\n",
        "  st.title(\"Covid-19 Lockdown and Pollution in the City of Chicago?\")\n",
        "  # st.markdown('\\n\\n')\n",
        "  st.header(\"Diane O. and James N.\")\n",
        "  st.markdown('\\n\\n')\n",
        "\n",
        "  # menu = [\"Test 1\", \"Test 2\"]\n",
        "  # choice = st.sidebar.selectbox('Menu', menu)\n",
        "  # if choice == 'Test 1':\n",
        "  #     st.header(\"This is Test 1\")\n",
        "\n",
        "  st.markdown(\n",
        "    \"\"\"For our project, we decided to focus on the Chicago Array of Things Dataset.  This massive dataset was collected between 2018 and 2020 from a node array installed throughout the city of Chicago.  Nodes have a variety of sensors installed at each location.  These sensors fall into one of six categories air quality, meteorological, physical, environmental, system, and vision.  For this analysis, we focus mainly on the air quality metrics.  This includes concentrations of five gasses: CO, H2S, NO2, O3, and SO2, as well as oxidizing and reducing gas concentrations. \"\"\")\n",
        "\n",
        "  st.markdown('\\n\\n')\n",
        "  st.header(\"Reducing the Data\")\n",
        "  st.markdown(\n",
        "      \"\"\"The data was initially collected and stored in a column style database with seven columns: timestamp, node id, subsystem, sensor, parameter, raw value, hrf value (processed value).  Ideally, we would have hosted this data on a cloud server and maintained the column database format by using Cassandra or a similar database schema or migrated to a relational database format such as PostgreSQL, however, the dataset was over 300GB in size and pushed the cost too high for our project.  We instead elected to write our own program to reduce the file to a manageable size. \"\"\"\n",
        "  )\n",
        "  st.markdown(\n",
        "      \"\"\"After the file was un tar ed to a gzip file, the first step was to split the data into separate files based on the node that collected the data.  This was done using the bash command line and the function below:\"\"\"\n",
        "  )\n",
        "  st.code(\n",
        "      \"\"\"zcat file.csv.gz | awk -F “,” ‘{print>“subfolder/”$2“.csv”}’\"\"\", language=\"cli\"\n",
        "  )\n",
        "  st.markdown(\n",
        "      \"\"\"This command unzips the file line by line and pipes it to the awk function.  This function splits the line by a comma and prints the line to a file with the name of value found in the second column (the node id).  This significantly reduce the size of each file we worked with but with the largest files around 10 GB, we still had to reduce the data.  Data was collected every second at each node.  We did not need this level of granularity and decided to average the readings every hour.  Theoretically, this would reduce our data by a factor of about 3600.  We completed this reduction in C# due to its speed and support for parallel processes, but a similar pipeline could be implemented in python. \"\"\"\n",
        "  )\n",
        "  st.markdown(\n",
        "      \"\"\"The process we used is only possible with the data was already sorted by ascending date.  The entire code can be found on our GitHub page.   The process was to first assign a thread to read a file.  The first line in the file becomes the start time rounded to the nearest half hour rounded down (ex 4:15 would have a start time at 3:30 and 4:45 would have a start time of 4:30) and the end time is the start time plus one hour.  A dictionary of values with the parameter, subsensor, and system as the key and the total for each as the values was then created.  Once the timestamp is greater than the end time or there are no more lines in the file to read, the thread takes the mean value for each key and appends it to a new csv file with the node id.  The values are cleared and the thread continues if there are more values in the file or moves on to the next file.  The entire process takes about 30 minutes to run, and we were able to reduce the size of the entire dataset from 300 GB down to 1.8 GB.  This size is near the limits for pandas but proved to be manageable after filtering by metrics for each analysis.\"\"\"\n",
        "  )\n",
        "\n",
        "  st.markdown(\"data from one node\")\n",
        "  sample_data = pd.read_csv('drive/Shareddrives/CapstoneProject/AoT_Chicago Reduced Data_V3/Numeric_001e06112e77.csv')\n",
        "  st.dataframe(sample_data.head())\n",
        "\n",
        "  st.markdown(\"master dafaframe\")\n",
        "  master_df = pd.read_csv(\"drive/Shareddrives/CapstoneProject/AoT_Chicago Reduced Data_V3/others/cleaned_dataset.zip\")\n",
        "  st.dataframe(master_df.head())\n",
        "\n",
        "  st.markdown('nodes')\n",
        "  nodes = pd.read_csv(\"drive/Shareddrives/CapstoneProject/AoT_Chicago Reduced Data_V3/others/nodes.csv\")\n",
        "  st.dataframe(nodes.head())\n",
        "\n",
        "  st.markdown('sensors')\n",
        "  sensors = pd.read_csv('drive/Shareddrives/CapstoneProject/AoT_Chicago Reduced Data_V3/others/sensors.csv')\n",
        "  st.dataframe(sensors.head())\n",
        "\n",
        "\n",
        "  st.markdown('\\n\\n')\n",
        "  st.header(\"Data Exploration\")\n",
        "  st.markdown(\n",
        "      \"\"\"Once the data was reduced to hourly readings, we were able to explore the data using pandas.  Our initial exploration provided us with locations of the sensors and the time frame that each sensor was active.  With this information, we decided to modify our initial plan of focusing on quality of life to focus instead on a causal inference model comparing how trends in air quality changed due to Covid related lockdowns in the city.\"\"\"\n",
        "  )\n",
        "  st.markdown(\n",
        "      \"\"\"We also ran an initial clustering analysis of the nodes based on the types of sensors at each location. A sparse matrix for each node with the sensor types as the values was used.  The sensor types were limited to only the subsystem types that include air quality metrics.  The dendrogram below was produced using agglomerative clustering with a distance threshold of 15.  There is clear separation between the groups meaning that there are differences in the types of data collected at these nodes.  From the bar chart, we can see that there is a cluster group that does not have any of the air quality data that we are most concerned with.  The other two groups have all of them and appear to have good coverage around the city as shown in the map.\"\"\"\n",
        "  )\n",
        "\n",
        "\n",
        "  st.markdown('node locations')\n",
        "  \"# might need a static image for folium and refer back to the notebook...\"\n",
        "  # latlon = list(zip(nodes_df['lat'], nodes_df['lon'], nodes_df['node_id']))\n",
        "  # mapit = folium.Map( location=[41.85, -87.65], zoom_start=11 )\n",
        "\n",
        "  # for coord in latlon:\n",
        "  #   folium.Marker( location=[ coord[0], coord[1] ],\n",
        "  #               tooltip=('node:', coord[2], 'lat:', coord[0], 'lon:', coord[1]),\n",
        "  #               #  tooltip = ''\n",
        "  #               popup=coord[2]).add_to( mapit )\n",
        "\n",
        "  # folium.TileLayer('cartodbpositron').add_to(mapit)\n",
        "  # folium_static(mapit)\n",
        "\n",
        "  # import streamlit as st\n",
        "  # from streamlit_folium import folium_static\n",
        "  # import folium\n",
        "  # \"# streamlit-folium\"\n",
        "\n",
        "  # with st.echo():\n",
        "  #     import streamlit as st\n",
        "  #     from streamlit_folium import folium_static\n",
        "  #     import folium\n",
        "\n",
        "  #     # center on Liberty Bell\n",
        "  #     m = folium.Map(location=[39.949610, -75.150282], zoom_start=16)\n",
        "\n",
        "  #     # add marker for Liberty Bell\n",
        "  #     tooltip = \"Liberty Bell\"\n",
        "  #     folium.Marker(\n",
        "  #         [39.949610, -75.150282], popup=\"Liberty Bell\", tooltip=tooltip\n",
        "  #     ).add_to(m)\n",
        "\n",
        "  #     # call to render Folium map in Streamlit\n",
        "  #     folium_static(m)\n",
        "\n",
        "\n",
        "  st.markdown('\\n\\n')\n",
        "  st.markdown('time for data collection')\n",
        "\n",
        "  up_df = pd.DataFrame(columns=['node_id', 'start', 'end'])\n",
        "  idx = 0\n",
        "  for node in nodes.node_id:\n",
        "    sample = master_df[master_df.node_id == node]\n",
        "    up_df.loc[idx] = [node, pd.to_datetime(sample.date).min(), pd.to_datetime(sample.date).max()]\n",
        "    idx += 1\n",
        "\n",
        "  up_df['days_up'] = (up_df.end.dt.date - up_df.start.dt.date).dt.days\n",
        "  st.dataframe(up_df.head())\n",
        "\n",
        "  st.markdown('time for data collection, description ...')\n",
        "  st.dataframe(up_df.describe().T)  \n",
        "\n",
        "  base = alt.Chart(up_df).encode(\n",
        "      alt.X('node_id:N')\n",
        "  ).properties(width = 1500)\n",
        "\n",
        "  rule = base.mark_rule().encode(\n",
        "      alt.Y('start:T', axis = alt.Axis(format='%m/%y', title='Date')), #,labelAngle=-45\n",
        "      alt.Y2('end:T')\n",
        "  )\n",
        "\n",
        "  startpoints = base.mark_circle(size=60).encode(\n",
        "      alt.Y('start:T'),\n",
        "      # alt.Y2('end:T')\n",
        "  )\n",
        "\n",
        "  endpoints = base.mark_circle(size=60).encode(\n",
        "      # alt.Y('start:T'),\n",
        "      alt.Y('end:T'), color = alt.value(\"#FFAA00\")\n",
        "  )\n",
        "\n",
        "  st.altair_chart(rule + startpoints + endpoints)\n",
        "\n",
        "\n",
        "\n",
        "  st.markdown('\\n\\n')\n",
        "  st.markdown('node sensor types')\n",
        "\n",
        "  subsystem_types = master_df[['node_id', 'subsystem']].groupby(['node_id', 'subsystem']).count().reset_index()\n",
        "  subsystem_types['count'] = 1\n",
        "\n",
        "\n",
        "  sensor_chart = alt.Chart(subsystem_types).mark_tick().encode(\n",
        "    x='node_id',\n",
        "    y='subsystem',\n",
        "    color='subsystem'\n",
        "  ).properties(width=1400) #, height=250\n",
        "  st.altair_chart(sensor_chart)\n",
        "\n",
        "\n",
        "  st.markdown('\\n\\n')\n",
        "  st.markdown('sensors')\n",
        "  subsystem_sensor_types = master_df[['subsystem', 'sensor']].groupby(['subsystem', 'sensor']).count().reset_index()\n",
        "  subsystem_types['count'] = 1\n",
        "\n",
        "  subsystem_chart = alt.Chart(subsystem_sensor_types).mark_rect().encode(\n",
        "    x='sensor',\n",
        "    y='subsystem',\n",
        "    # color='subsystem'\n",
        "  ).properties(width=1400)\n",
        "  st.altair_chart(subsystem_chart)\n",
        "\n",
        "  filtered_subsystems = master_df[master_df['subsystem'].isin(['lightsense', 'metsense', 'chemsense', 'alphasense', 'plantower'])]\n",
        "  subsystem_sensor_types = filtered_subsystems[['subsystem', 'sensor']].groupby(['subsystem', 'sensor']).count().reset_index()\n",
        "  subsystem_types['count'] = 1\n",
        "\n",
        "  filteredsub_chart = alt.Chart(subsystem_sensor_types).mark_rect().encode(\n",
        "    x='sensor',\n",
        "    y='subsystem',\n",
        "    color='subsystem'\n",
        "  ).properties(width=1400)\n",
        "  st.altair_chart(filteredsub_chart)\n",
        "\n",
        "  sensor_types_parameters = filtered_subsystems[['subsystem', 'sensor', 'parameters']].groupby(['subsystem', 'sensor', 'parameters']).count().reset_index()\n",
        "  sensor_types_parameters['count'] = 1\n",
        "\n",
        "  param_chart = alt.Chart(sensor_types_parameters).mark_rect().encode(\n",
        "    x='parameters',\n",
        "    y='sensor',\n",
        "    color='subsystem'\n",
        "  ).properties(width=1000, height=500)\n",
        "  st.altair_chart(param_chart)\n",
        "\n",
        "  st.dataframe(filtered_subsystems.head())\n",
        "\n",
        "\n",
        "  pms = ['10um_particle', '1um_particle', '2_5um_particle', '5um_particle', 'pm1', 'pm10', 'pm10_atm', 'pm10_cf1', 'pm1_atm', 'pm1_cf1', 'pm25_atm', 'pm25_cf1', 'pm2_5', 'point_3um_particle', 'point_5um_particle', 'fw', 'sample_flow_rate', 'sampling_period']\n",
        "  # 'concentration', \n",
        "  df_w_pms = filtered_subsystems[filtered_subsystems['parameters'].isin(pms) ].drop(['node_id', 'subsystem', 'sensor'], axis=1)\n",
        "\n",
        "  df_w_pms = pd.pivot_table(df_w_pms, values = 'values', index = 'date', columns = 'parameters', aggfunc=np.mean).reset_index()\n",
        "  # df_w_pms = df_w_pms.fillna(method=\"bfill\")\n",
        "\n",
        "  # df_w_pms\n",
        "  st.dataframe(df_w_pms.describe())\n",
        "\n",
        "  \"# might need a static image for seaborn and refer back to the notebook...\"\n",
        "  fig = plt.rc('figure', figsize=(25, 10))\n",
        "  sb.heatmap(df_w_pms.corr(method='pearson'), cmap='YlGnBu', annot=True)\n",
        "  st.write(fig)\n",
        "\n",
        "\n",
        "  st.markdown('\\n\\n')\n",
        "  st.header(\"Causal Inference Analysis\")\n",
        "  st.markdown(\n",
        "      \"\"\"...\"\"\"\n",
        "  )\n",
        "\n",
        "  df = filtered_subsystems[filtered_subsystems['parameters'] == 'concentration'].drop(['node_id', 'subsystem', 'parameters'], axis=1)\n",
        "  st.dataframe(df.head())\n",
        "\n",
        "  df = pd.pivot_table(df, values = 'values', index = 'date', columns = 'sensor', aggfunc=np.mean).reset_index()\n",
        "  # df = df.fillna(method=\"bfill\")\n",
        "  st.dataframe(df.head())\n",
        "  st.dataframe(df.describe())\n",
        "\n",
        "  df.date = pd.to_datetime(df.date)\n",
        "\n",
        "  base = alt.Chart(df).mark_line().encode(x = 'date:T').properties(width=250, height=250)#.interactive()\n",
        "\n",
        "  chart = alt.vconcat()\n",
        "\n",
        "  row = alt.hconcat()\n",
        "  for gase in ['co:Q', 'h2s:Q', 'no2:Q', 'o3:Q']:\n",
        "    row |= base.encode(y=gase)\n",
        "  chart &= row\n",
        "\n",
        "  row = alt.hconcat()\n",
        "  for gase in ['oxidizing_gases:Q', 'reducing_gases:Q', 'so2:Q']:\n",
        "    row |= base.encode(y=gase)\n",
        "  chart &= row\n",
        "\n",
        "  st.altair_chart(chart)\n",
        "\n",
        "  st.markdown('\\n\\n')\n",
        "  st.header(\"Clustering Analysis\")\n",
        "  st.markdown(\n",
        "      \"\"\"Node clustering seemed like an obvious choice for analysis with similar data being collected around the city.  We were expecting to find some similarity between nodes with each metric that may indicate differences or similarities between neighborhoods that are not physically close to each other.  The focus of this analysis is on the air quality metrics based on the concentrations of selected gasses.  This analysis does not explore what is “good” vs “bad” air quality, it instead focuses on identifying similar concentrations of gasses over time. The results of this analysis may be interesting to correlate with other metrics such as income maps, housing prices, zoning (ex. business vs residential areas), and heath maps.\"\"\"\n",
        "  )\n",
        "  AggloPicture = Image.open('drive/Shareddrives/CapstoneProject/AoT_Chicago Reduced Data_V3/others/AgglomerativeClusters.jpg')\n",
        "  st.image(AggloPicture, caption='Agglomerative Clusters')\n",
        "  st.markdown('')\n",
        "\n",
        "  clustered_data = pd.read_csv('drive/Shareddrives/CapstoneProject/AoT_Chicago Reduced Data_V3/others/clustered_dataset.csv')\n",
        "  # st.dataframe(clustered_data.head())\n",
        "  def cluster_timeseries(data):\n",
        "    \n",
        "    cols = ['concentration_co', 'concentration_h2s', 'concentration_no2', 'concentration_o3', 'concentration_oxidizing_gases', 'concentration_reducing_gases', 'concentration_so2']\n",
        "    row = None\n",
        "    column = None\n",
        "    for i in ['Agglomerative','DBSCAN','OPTICS', 'Spectral','AffinityPropagation']:\n",
        "      row = None\n",
        "      for j in cols:\n",
        "        df = data.groupby(['date', i]).mean()[[j]].reset_index()\n",
        "        c = alt.Chart(df).mark_line().encode(\n",
        "            x=alt.X('date:T', title=''),\n",
        "            y=f'{j}:Q',\n",
        "            color=f'{i}:N'\n",
        "        ).properties(width=200)\n",
        "        if row == None:\n",
        "          row = c \n",
        "        else:\n",
        "          row = row|c\n",
        "      if column == None:\n",
        "        column = row\n",
        "      else:\n",
        "        column = (column&row).resolve_scale(color='independent')\n",
        "    return column\n",
        "\n",
        "  clustered_chart = cluster_timeseries(clustered_data)\n",
        "  st.altair_chart(clustered_chart)\n",
        "\n",
        "  st.subheader(\"Data Representation\")\n",
        "  st.markdown(\n",
        "      \"\"\"Two representation for the data were used to compare results.  The first representation averages the data over each day of the week.  The motivation for this comes from the assumption that there are differences in behavior on each weekday that may influence concentrations of gasses in the air such as differences between workday and weekend traffic (shape (number of nodes, 7xparameters)).  The second representation averages all the values by date, combining the date in previous years together (shape = (number of nodes, 366xparameters)). Both representations do not include data collected during the lockdowns to prevent any lockdown related fluctuations from skewing the results. \"\"\"\n",
        "  )\n",
        "\n",
        "  st.subheader(\"Results\")\n",
        "  st.markdown(\n",
        "      \"\"\"The results of this analysis were not as consistent as we had hoped.  The most reliable results came from the Agglomerative clustering with the date averaging data representation.  It appears that there are differences in the cluster groups that are clear in the average time series for each cluster.  It is not clear, however, how these groups were separated.  In the map, we can see that most of the nodes belong to a single cluster.  The second largest cluster, shown in blue, appears to be much noisier than the largest orange group.  The smallest clusters appear to be the least consistent sensors and have many data gaps or were only active for a short period of time. It appears that the clusters may have only separated based on measurement consistency.  Further analysis is required to understand why these nodes are producing noisier data.  It is unclear if this is due to a faulty sensor or if there are local sources of pollution that cause the spikes.  Future projects could compare these clusters to traffic patterns and industrial centers that could be producers.  It would also be beneficial to include more variables such as wind speed and direction that have an impact on the direction of pollution plume movement.  \"\"\"\n",
        "  )\n",
        "\n",
        "  \n",
        "\n",
        "  st.markdown(\n",
        "      \"\"\" \"\"\"\n",
        "  )\n",
        "\n",
        "if __name__ == '__main__':\n",
        "  main()\n",
        "\n"
      ],
      "metadata": {
        "colab": {
          "base_uri": "https://localhost:8080/"
        },
        "id": "Nte5rAgsWV6Z",
        "outputId": "37e0c1c0-0d91-44d4-d2c5-48084bc91ddf"
      },
      "execution_count": 77,
      "outputs": [
        {
          "output_type": "stream",
          "name": "stdout",
          "text": [
            "Overwriting app.py\n"
          ]
        }
      ]
    },
    {
      "cell_type": "code",
      "source": [
        "!ls drive/Shareddrives/CapstoneProject/'AoT_Chicago Reduced Data_V3'/others"
      ],
      "metadata": {
        "id": "7njCCjyNe5n3",
        "colab": {
          "base_uri": "https://localhost:8080/"
        },
        "outputId": "69fe4c5c-8439-40c4-da9e-6bad67f53d20"
      },
      "execution_count": null,
      "outputs": [
        {
          "output_type": "stream",
          "name": "stdout",
          "text": [
            "cleaned_dataset.csv  data.csv.gz  nodes.csv\n",
            "ClusterGroups.csv    file.csv.gz  sensors.csv\n"
          ]
        }
      ]
    },
    {
      "cell_type": "code",
      "source": [
        "! ls sample_data"
      ],
      "metadata": {
        "colab": {
          "base_uri": "https://localhost:8080/"
        },
        "id": "biJoEt_YEKn2",
        "outputId": "5f24ebf3-957a-47d9-e61a-c2d4359209ff"
      },
      "execution_count": null,
      "outputs": [
        {
          "output_type": "stream",
          "name": "stdout",
          "text": [
            "anscombe.json\t\t      mnist_test.csv\n",
            "california_housing_test.csv   mnist_train_small.csv\n",
            "california_housing_train.csv  README.md\n"
          ]
        }
      ]
    },
    {
      "cell_type": "code",
      "source": [
        "! ngrok authtoken 22VlAvaxKz9JeAcG2YYyH52L5X0_6QVzv7jwtrX8X2T1gktxe"
      ],
      "metadata": {
        "colab": {
          "base_uri": "https://localhost:8080/"
        },
        "id": "REQLg6fYfWV8",
        "outputId": "7ee764da-06d5-4f30-c564-f99469a0225a"
      },
      "execution_count": null,
      "outputs": [
        {
          "output_type": "stream",
          "name": "stdout",
          "text": [
            "Authtoken saved to configuration file: /root/.ngrok2/ngrok.yml\n"
          ]
        }
      ]
    },
    {
      "cell_type": "code",
      "source": [
        "! ngrok"
      ],
      "metadata": {
        "colab": {
          "base_uri": "https://localhost:8080/"
        },
        "id": "oUK50svMfWMr",
        "outputId": "4f1641ff-e956-4a66-b78e-d07bfbf20fad"
      },
      "execution_count": null,
      "outputs": [
        {
          "output_type": "stream",
          "name": "stdout",
          "text": [
            "NAME:\n",
            "   ngrok - tunnel local ports to public URLs and inspect traffic\n",
            "\n",
            "DESCRIPTION:\n",
            "    ngrok exposes local networked services behinds NATs and firewalls to the\n",
            "    public internet over a secure tunnel. Share local websites, build/test\n",
            "    webhook consumers and self-host personal services.\n",
            "    Detailed help for each command is available with 'ngrok help <command>'.\n",
            "    Open http://localhost:4040 for ngrok's web interface to inspect traffic.\n",
            "\n",
            "EXAMPLES:\n",
            "    ngrok http 80                    # secure public URL for port 80 web server\n",
            "    ngrok http -subdomain=baz 8080   # port 8080 available at baz.ngrok.io\n",
            "    ngrok http foo.dev:80            # tunnel to host:port instead of localhost\n",
            "    ngrok http https://localhost     # expose a local https server\n",
            "    ngrok tcp 22                     # tunnel arbitrary TCP traffic to port 22\n",
            "    ngrok tls -hostname=foo.com 443  # TLS traffic for foo.com to port 443\n",
            "    ngrok start foo bar baz          # start tunnels from the configuration file\n",
            "\n",
            "VERSION:\n",
            "   2.3.40\n",
            "\n",
            "AUTHOR:\n",
            "  inconshreveable - <alan@ngrok.com>\n",
            "\n",
            "COMMANDS:\n",
            "   authtoken\tsave authtoken to configuration file\n",
            "   credits\tprints author and licensing information\n",
            "   http\t\tstart an HTTP tunnel\n",
            "   start\tstart tunnels by name from the configuration file\n",
            "   tcp\t\tstart a TCP tunnel\n",
            "   tls\t\tstart a TLS tunnel\n",
            "   update\tupdate ngrok to the latest version\n",
            "   version\tprint the version string\n",
            "   help\t\tShows a list of commands or help for one command\n",
            "\n",
            "PYNGROK VERSION:\n",
            "   5.1.0\n"
          ]
        }
      ]
    },
    {
      "cell_type": "code",
      "source": [
        "from pyngrok import ngrok"
      ],
      "metadata": {
        "id": "EkxCmNW6fV68"
      },
      "execution_count": null,
      "outputs": []
    },
    {
      "cell_type": "code",
      "source": [
        "# !nohub streamlit run app.py\n",
        "# ! streamlit run app.py &>/dev/null&\n",
        "! streamlit run --server.port 80 app.py >&/dev/null&"
      ],
      "metadata": {
        "id": "3T9sciX8E0CP"
      },
      "execution_count": null,
      "outputs": []
    },
    {
      "cell_type": "code",
      "source": [
        "! pgrep streamlit"
      ],
      "metadata": {
        "colab": {
          "base_uri": "https://localhost:8080/"
        },
        "id": "L_YNNkkvgMzu",
        "outputId": "a32ce753-1927-40d1-ae16-1526813c399b"
      },
      "execution_count": null,
      "outputs": [
        {
          "output_type": "stream",
          "name": "stdout",
          "text": [
            "3745\n"
          ]
        }
      ]
    },
    {
      "cell_type": "code",
      "source": [
        "public_url = ngrok.connect(port='8501')"
      ],
      "metadata": {
        "id": "ILQ3eGG7gB_6"
      },
      "execution_count": null,
      "outputs": []
    },
    {
      "cell_type": "code",
      "source": [
        "public_url"
      ],
      "metadata": {
        "colab": {
          "base_uri": "https://localhost:8080/"
        },
        "id": "CoA0JvFlgI4C",
        "outputId": "5c50a13f-64f3-4767-8065-8ee63d70af65"
      },
      "execution_count": null,
      "outputs": [
        {
          "output_type": "execute_result",
          "data": {
            "text/plain": [
              "<NgrokTunnel: \"http://bb6c-34-83-236-207.ngrok.io\" -> \"http://localhost:80\">"
            ]
          },
          "metadata": {},
          "execution_count": 56
        }
      ]
    },
    {
      "cell_type": "code",
      "source": [
        ""
      ],
      "metadata": {
        "id": "bDdku9DIoKOt"
      },
      "execution_count": null,
      "outputs": []
    },
    {
      "cell_type": "code",
      "source": [
        "! kill 2516"
      ],
      "metadata": {
        "id": "Ou-EMyylggmZ",
        "colab": {
          "base_uri": "https://localhost:8080/"
        },
        "outputId": "05eaab34-8da3-47af-ce32-ec052e381f4c"
      },
      "execution_count": null,
      "outputs": [
        {
          "output_type": "stream",
          "name": "stdout",
          "text": [
            "/bin/bash: line 0: kill: (2516) - No such process\n"
          ]
        }
      ]
    },
    {
      "cell_type": "code",
      "source": [
        "! ngrok.kill"
      ],
      "metadata": {
        "id": "5xeiApLCggef",
        "colab": {
          "base_uri": "https://localhost:8080/"
        },
        "outputId": "8df14f04-6af1-4500-fb85-aa3a1fbe90c3"
      },
      "execution_count": null,
      "outputs": [
        {
          "output_type": "stream",
          "name": "stdout",
          "text": [
            "/bin/bash: ngrok.kill: command not found\n"
          ]
        }
      ]
    },
    {
      "cell_type": "code",
      "source": [
        ""
      ],
      "metadata": {
        "id": "2vJ6L-40ggZi"
      },
      "execution_count": null,
      "outputs": []
    },
    {
      "cell_type": "code",
      "source": [
        ""
      ],
      "metadata": {
        "id": "J8NeD3vhggUx"
      },
      "execution_count": null,
      "outputs": []
    },
    {
      "cell_type": "code",
      "source": [
        "from pyngrok import ngrok\n",
        "\n",
        "# Setup a tunnel to the streamlit port 8501\n",
        "public_url = ngrok.connect(port='8501')\n",
        "public_url"
      ],
      "metadata": {
        "colab": {
          "base_uri": "https://localhost:8080/"
        },
        "id": "jzmWpuipEz03",
        "outputId": "5d733d70-52a7-40ea-eb16-1c56685d6fa0"
      },
      "execution_count": null,
      "outputs": [
        {
          "output_type": "stream",
          "name": "stderr",
          "text": [
            "2021-12-18 19:47:39.220 INFO    pyngrok.ngrok: Opening tunnel named: http-80-bd04b993-a163-412d-8240-9c00f1b2ca91\n"
          ]
        },
        {
          "output_type": "stream",
          "name": "stdout",
          "text": [
            ""
          ]
        },
        {
          "output_type": "stream",
          "name": "stderr",
          "text": [
            "2021-12-18 19:47:40.068 INFO    pyngrok.process.ngrok: t=2021-12-18T19:47:40+0000 lvl=info msg=\"no configuration paths supplied\"\n",
            "2021-12-18 19:47:40.076 INFO    pyngrok.process.ngrok: t=2021-12-18T19:47:40+0000 lvl=info msg=\"using configuration at default config path\" path=/root/.ngrok2/ngrok.yml\n",
            "2021-12-18 19:47:40.079 INFO    pyngrok.process.ngrok: t=2021-12-18T19:47:40+0000 lvl=info msg=\"open config file\" path=/root/.ngrok2/ngrok.yml err=nil\n",
            "2021-12-18 19:47:40.083 INFO    pyngrok.process.ngrok: t=2021-12-18T19:47:40+0000 lvl=info msg=\"starting web service\" obj=web addr=127.0.0.1:4040\n",
            "2021-12-18 19:47:40.135 INFO    pyngrok.process.ngrok: t=2021-12-18T19:47:40+0000 lvl=info msg=\"tunnel session started\" obj=tunnels.session\n",
            "2021-12-18 19:47:40.137 INFO    pyngrok.process.ngrok: t=2021-12-18T19:47:40+0000 lvl=info msg=\"client session established\" obj=csess id=f647aea08f9e\n",
            "2021-12-18 19:47:40.146 INFO    pyngrok.process.ngrok: t=2021-12-18T19:47:40+0000 lvl=info msg=start pg=/api/tunnels id=3c866cdc5d4ca6b7\n",
            "2021-12-18 19:47:40.153 INFO    pyngrok.process.ngrok: t=2021-12-18T19:47:40+0000 lvl=info msg=end pg=/api/tunnels id=3c866cdc5d4ca6b7 status=200 dur=439.804µs\n",
            "2021-12-18 19:47:40.159 INFO    pyngrok.process.ngrok: t=2021-12-18T19:47:40+0000 lvl=info msg=start pg=/api/tunnels id=e0acaae8ccc12733\n",
            "2021-12-18 19:47:40.164 INFO    pyngrok.process.ngrok: t=2021-12-18T19:47:40+0000 lvl=info msg=end pg=/api/tunnels id=e0acaae8ccc12733 status=200 dur=151.887µs\n",
            "2021-12-18 19:47:40.169 INFO    pyngrok.process.ngrok: t=2021-12-18T19:47:40+0000 lvl=info msg=start pg=/api/tunnels id=9028ea832f00b720\n",
            "2021-12-18 19:47:40.200 INFO    pyngrok.process.ngrok: t=2021-12-18T19:47:40+0000 lvl=info msg=\"started tunnel\" obj=tunnels name=\"http-80-bd04b993-a163-412d-8240-9c00f1b2ca91 (http)\" addr=http://localhost:80 url=http://672b-34-86-141-164.ngrok.io\n",
            "2021-12-18 19:47:40.207 INFO    pyngrok.process.ngrok: t=2021-12-18T19:47:40+0000 lvl=info msg=\"started tunnel\" obj=tunnels name=http-80-bd04b993-a163-412d-8240-9c00f1b2ca91 addr=http://localhost:80 url=https://672b-34-86-141-164.ngrok.io\n"
          ]
        },
        {
          "output_type": "execute_result",
          "data": {
            "text/plain": [
              "<NgrokTunnel: \"http://672b-34-86-141-164.ngrok.io\" -> \"http://localhost:80\">"
            ]
          },
          "metadata": {},
          "execution_count": 19
        },
        {
          "output_type": "stream",
          "name": "stderr",
          "text": [
            "2021-12-18 19:47:40.211 INFO    pyngrok.process.ngrok: t=2021-12-18T19:47:40+0000 lvl=info msg=end pg=/api/tunnels id=9028ea832f00b720 status=201 dur=48.988445ms\n",
            "2021-12-18 19:47:40.219 INFO    pyngrok.process.ngrok: t=2021-12-18T19:47:40+0000 lvl=info msg=start pg=\"/api/tunnels/http-80-bd04b993-a163-412d-8240-9c00f1b2ca91 (http)\" id=aface67a963d4893\n",
            "2021-12-18 19:47:40.224 INFO    pyngrok.process.ngrok: t=2021-12-18T19:47:40+0000 lvl=info msg=end pg=\"/api/tunnels/http-80-bd04b993-a163-412d-8240-9c00f1b2ca91 (http)\" id=aface67a963d4893 status=200 dur=189.591µs\n"
          ]
        }
      ]
    },
    {
      "cell_type": "code",
      "source": [
        "npx localtunnel --port 8000"
      ],
      "metadata": {
        "colab": {
          "base_uri": "https://localhost:8080/",
          "height": 135
        },
        "id": "M-kCZpgkECsQ",
        "outputId": "d6bbd45d-a83e-430a-8bc3-34ada470f064"
      },
      "execution_count": null,
      "outputs": [
        {
          "output_type": "error",
          "ename": "SyntaxError",
          "evalue": "ignored",
          "traceback": [
            "\u001b[0;36m  File \u001b[0;32m\"<ipython-input-14-448411a9c650>\"\u001b[0;36m, line \u001b[0;32m1\u001b[0m\n\u001b[0;31m    npx localtunnel --port 8000\u001b[0m\n\u001b[0m                  ^\u001b[0m\n\u001b[0;31mSyntaxError\u001b[0m\u001b[0;31m:\u001b[0m invalid syntax\n"
          ]
        }
      ]
    },
    {
      "cell_type": "code",
      "source": [
        "npm install -g localtunnel"
      ],
      "metadata": {
        "colab": {
          "base_uri": "https://localhost:8080/",
          "height": 135
        },
        "id": "ii2iTjhnDyhZ",
        "outputId": "63c0c667-ec63-49cb-fb5f-e02f56b33538"
      },
      "execution_count": null,
      "outputs": [
        {
          "output_type": "error",
          "ename": "SyntaxError",
          "evalue": "ignored",
          "traceback": [
            "\u001b[0;36m  File \u001b[0;32m\"<ipython-input-13-cd795a98a0a9>\"\u001b[0;36m, line \u001b[0;32m1\u001b[0m\n\u001b[0;31m    npm install -g localtunnel\u001b[0m\n\u001b[0m              ^\u001b[0m\n\u001b[0;31mSyntaxError\u001b[0m\u001b[0;31m:\u001b[0m invalid syntax\n"
          ]
        }
      ]
    },
    {
      "cell_type": "code",
      "source": [
        "!streamlit run app.py & npx localtunnel --port 8501"
      ],
      "metadata": {
        "colab": {
          "base_uri": "https://localhost:8080/"
        },
        "id": "o_dURT17oC65",
        "outputId": "6ad83c6e-c71a-41a0-e6d1-958d312eaa13"
      },
      "execution_count": null,
      "outputs": [
        {
          "output_type": "stream",
          "name": "stdout",
          "text": [
            "\u001b[K\u001b[?25hnpx: installed 22 in 2.566s\n",
            "\u001b[0m\n",
            "\u001b[34m\u001b[1m  You can now view your Streamlit app in your browser.\u001b[0m\n",
            "\u001b[0m\n",
            "\u001b[34m  Network URL: \u001b[0m\u001b[1mhttp://172.28.0.2:8501\u001b[0m\n",
            "\u001b[34m  External URL: \u001b[0m\u001b[1mhttp://34.86.141.164:8501\u001b[0m\n",
            "\u001b[0m\n",
            "your url is: https://lovely-lionfish-42.loca.lt\n",
            "\u001b[34m  Stopping...\u001b[0m\n",
            "^C\n"
          ]
        }
      ]
    },
    {
      "cell_type": "code",
      "source": [
        ""
      ],
      "metadata": {
        "colab": {
          "base_uri": "https://localhost:8080/",
          "height": 245
        },
        "id": "XRDpE6gWn3G9",
        "outputId": "3e615725-aa5f-4852-92d1-cac91b31179d"
      },
      "execution_count": null,
      "outputs": [
        {
          "output_type": "error",
          "ename": "NameError",
          "evalue": "ignored",
          "traceback": [
            "\u001b[0;31m---------------------------------------------------------------------------\u001b[0m",
            "\u001b[0;31mNameError\u001b[0m                                 Traceback (most recent call last)",
            "\u001b[0;32m<ipython-input-7-764a3e8600a5>\u001b[0m in \u001b[0;36m<module>\u001b[0;34m()\u001b[0m\n\u001b[0;32m----> 1\u001b[0;31m \u001b[0mst\u001b[0m\u001b[0;34m.\u001b[0m\u001b[0mtitle\u001b[0m\u001b[0;34m(\u001b[0m\u001b[0;34m\"MADS 697/698 - CAPSTONE\"\u001b[0m\u001b[0;34m)\u001b[0m\u001b[0;34m\u001b[0m\u001b[0;34m\u001b[0m\u001b[0m\n\u001b[0m\u001b[1;32m      2\u001b[0m \u001b[0;31m# st.header(\"Diane O and James N\")\u001b[0m\u001b[0;34m\u001b[0m\u001b[0;34m\u001b[0m\u001b[0;34m\u001b[0m\u001b[0m\n\u001b[1;32m      3\u001b[0m \u001b[0;31m# st.markdown('\\n\\n')\u001b[0m\u001b[0;34m\u001b[0m\u001b[0;34m\u001b[0m\u001b[0;34m\u001b[0m\u001b[0m\n\u001b[1;32m      4\u001b[0m \u001b[0;31m# st.header(\"What's the Impact of Lockdown in Chicago Pollution\")\u001b[0m\u001b[0;34m\u001b[0m\u001b[0;34m\u001b[0m\u001b[0;34m\u001b[0m\u001b[0m\n\u001b[1;32m      5\u001b[0m \u001b[0;31m# st.markdown('\\n\\n')\u001b[0m\u001b[0;34m\u001b[0m\u001b[0;34m\u001b[0m\u001b[0;34m\u001b[0m\u001b[0m\n",
            "\u001b[0;31mNameError\u001b[0m: name 'st' is not defined"
          ]
        }
      ]
    },
    {
      "cell_type": "code",
      "source": [
        ""
      ],
      "metadata": {
        "id": "oSrCvyDwn2-6"
      },
      "execution_count": null,
      "outputs": []
    },
    {
      "cell_type": "code",
      "source": [
        ""
      ],
      "metadata": {
        "id": "yJrvdfNxn2w6"
      },
      "execution_count": null,
      "outputs": []
    },
    {
      "cell_type": "code",
      "source": [
        ""
      ],
      "metadata": {
        "id": "ER1IgjaTWW03"
      },
      "execution_count": null,
      "outputs": []
    },
    {
      "cell_type": "code",
      "source": [
        ""
      ],
      "metadata": {
        "id": "ODXRA3xzWW8-"
      },
      "execution_count": null,
      "outputs": []
    }
  ]
}